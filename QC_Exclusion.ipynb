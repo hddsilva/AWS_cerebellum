{
 "cells": [
  {
   "cell_type": "markdown",
   "metadata": {},
   "source": [
    "# Exclusion of ABCD subjects lost to MINC and MAGeT QC"
   ]
  },
  {
   "cell_type": "code",
   "execution_count": 2,
   "metadata": {},
   "outputs": [],
   "source": [
    "import pandas as pd\n",
    "import numpy as np\n",
    "import glob\n",
    "from scipy.stats import chi2_contingency\n",
    "import seaborn as sns\n",
    "import matplotlib.pyplot as plt\n",
    "import researchpy as rp"
   ]
  },
  {
   "cell_type": "code",
   "execution_count": 3,
   "metadata": {},
   "outputs": [],
   "source": [
    "filePath = \"/Volumes/Gruenlab-726014-YSM/hailey_dsilva/projects/AWS_cerebellum/\""
   ]
  },
  {
   "cell_type": "markdown",
   "metadata": {},
   "source": [
    "Import QC data"
   ]
  },
  {
   "cell_type": "code",
   "execution_count": 4,
   "metadata": {},
   "outputs": [],
   "source": [
    "fileList = glob.glob(filePath + 'FullStudy/QC/W1_Eur_*_Grp*/W1_Eur_*_Grp*.csv')\n",
    "qc = pd.DataFrame()\n",
    "for file in fileList:\n",
    "    newFile = pd.read_csv(file)\n",
    "    frames = [qc, newFile]\n",
    "    qc = pd.concat(frames)"
   ]
  },
  {
   "cell_type": "markdown",
   "metadata": {},
   "source": [
    "Data cleaning"
   ]
  },
  {
   "cell_type": "code",
   "execution_count": 5,
   "metadata": {},
   "outputs": [
    {
     "data": {
      "text/plain": [
       "6"
      ]
     },
     "execution_count": 5,
     "metadata": {},
     "output_type": "execute_result"
    }
   ],
   "source": [
    "qc.Subj.isna().sum()"
   ]
  },
  {
   "cell_type": "code",
   "execution_count": 6,
   "metadata": {},
   "outputs": [],
   "source": [
    "qc = qc[qc['Subj'].notna()]"
   ]
  },
  {
   "cell_type": "code",
   "execution_count": 7,
   "metadata": {},
   "outputs": [
    {
     "data": {
      "text/html": [
       "<div>\n",
       "<style scoped>\n",
       "    .dataframe tbody tr th:only-of-type {\n",
       "        vertical-align: middle;\n",
       "    }\n",
       "\n",
       "    .dataframe tbody tr th {\n",
       "        vertical-align: top;\n",
       "    }\n",
       "\n",
       "    .dataframe thead th {\n",
       "        text-align: right;\n",
       "    }\n",
       "</style>\n",
       "<table border=\"1\" class=\"dataframe\">\n",
       "  <thead>\n",
       "    <tr style=\"text-align: right;\">\n",
       "      <th></th>\n",
       "      <th>Subj</th>\n",
       "      <th>minc_bpipe_QC</th>\n",
       "      <th>minc_bpipe_notes</th>\n",
       "      <th>MAGeT_QC</th>\n",
       "      <th>MAGeT_QC_notes</th>\n",
       "      <th>HD_decision</th>\n",
       "    </tr>\n",
       "  </thead>\n",
       "  <tbody>\n",
       "    <tr>\n",
       "      <th>0</th>\n",
       "      <td>NDAR_INV00BD7VDC</td>\n",
       "      <td>No</td>\n",
       "      <td>NaN</td>\n",
       "      <td>NaN</td>\n",
       "      <td>NaN</td>\n",
       "      <td>NaN</td>\n",
       "    </tr>\n",
       "    <tr>\n",
       "      <th>1</th>\n",
       "      <td>NDAR_INV01RGTWD2</td>\n",
       "      <td>NaN</td>\n",
       "      <td>NaN</td>\n",
       "      <td>NaN</td>\n",
       "      <td>NaN</td>\n",
       "      <td>NaN</td>\n",
       "    </tr>\n",
       "    <tr>\n",
       "      <th>2</th>\n",
       "      <td>NDAR_INV021N0FLH</td>\n",
       "      <td>NaN</td>\n",
       "      <td>NaN</td>\n",
       "      <td>NaN</td>\n",
       "      <td>NaN</td>\n",
       "      <td>NaN</td>\n",
       "    </tr>\n",
       "    <tr>\n",
       "      <th>3</th>\n",
       "      <td>NDAR_INV07BR8GMY</td>\n",
       "      <td>NaN</td>\n",
       "      <td>NaN</td>\n",
       "      <td>NaN</td>\n",
       "      <td>NaN</td>\n",
       "      <td>NaN</td>\n",
       "    </tr>\n",
       "    <tr>\n",
       "      <th>4</th>\n",
       "      <td>NDAR_INV08WDFUCE</td>\n",
       "      <td>NaN</td>\n",
       "      <td>NaN</td>\n",
       "      <td>NaN</td>\n",
       "      <td>NaN</td>\n",
       "      <td>NaN</td>\n",
       "    </tr>\n",
       "    <tr>\n",
       "      <th>...</th>\n",
       "      <td>...</td>\n",
       "      <td>...</td>\n",
       "      <td>...</td>\n",
       "      <td>...</td>\n",
       "      <td>...</td>\n",
       "      <td>...</td>\n",
       "    </tr>\n",
       "    <tr>\n",
       "      <th>131</th>\n",
       "      <td>NDAR_INVYU20X3EV</td>\n",
       "      <td>NaN</td>\n",
       "      <td>NaN</td>\n",
       "      <td>NaN</td>\n",
       "      <td>NaN</td>\n",
       "      <td>NaN</td>\n",
       "    </tr>\n",
       "    <tr>\n",
       "      <th>132</th>\n",
       "      <td>NDAR_INVZ730VLUZ</td>\n",
       "      <td>No</td>\n",
       "      <td>Multiple pieces missing</td>\n",
       "      <td>NaN</td>\n",
       "      <td>NaN</td>\n",
       "      <td>NaN</td>\n",
       "    </tr>\n",
       "    <tr>\n",
       "      <th>133</th>\n",
       "      <td>NDAR_INVZF3VJWAN</td>\n",
       "      <td>Maybe</td>\n",
       "      <td>Moderate piece missing</td>\n",
       "      <td>NaN</td>\n",
       "      <td>NaN</td>\n",
       "      <td>NaN</td>\n",
       "    </tr>\n",
       "    <tr>\n",
       "      <th>134</th>\n",
       "      <td>NDAR_INVZL6CFV5G</td>\n",
       "      <td>NaN</td>\n",
       "      <td>NaN</td>\n",
       "      <td>NaN</td>\n",
       "      <td>NaN</td>\n",
       "      <td>NaN</td>\n",
       "    </tr>\n",
       "    <tr>\n",
       "      <th>135</th>\n",
       "      <td>NDAR_INVZL9DL58E</td>\n",
       "      <td>Maybe</td>\n",
       "      <td>Small piece missing</td>\n",
       "      <td>NaN</td>\n",
       "      <td>NaN</td>\n",
       "      <td>NaN</td>\n",
       "    </tr>\n",
       "  </tbody>\n",
       "</table>\n",
       "<p>2648 rows × 6 columns</p>\n",
       "</div>"
      ],
      "text/plain": [
       "                 Subj minc_bpipe_QC         minc_bpipe_notes MAGeT_QC  \\\n",
       "0    NDAR_INV00BD7VDC            No                      NaN      NaN   \n",
       "1    NDAR_INV01RGTWD2           NaN                      NaN      NaN   \n",
       "2    NDAR_INV021N0FLH           NaN                      NaN      NaN   \n",
       "3    NDAR_INV07BR8GMY           NaN                      NaN      NaN   \n",
       "4    NDAR_INV08WDFUCE           NaN                      NaN      NaN   \n",
       "..                ...           ...                      ...      ...   \n",
       "131  NDAR_INVYU20X3EV           NaN                      NaN      NaN   \n",
       "132  NDAR_INVZ730VLUZ            No  Multiple pieces missing      NaN   \n",
       "133  NDAR_INVZF3VJWAN         Maybe   Moderate piece missing      NaN   \n",
       "134  NDAR_INVZL6CFV5G           NaN                      NaN      NaN   \n",
       "135  NDAR_INVZL9DL58E         Maybe      Small piece missing      NaN   \n",
       "\n",
       "    MAGeT_QC_notes HD_decision  \n",
       "0              NaN         NaN  \n",
       "1              NaN         NaN  \n",
       "2              NaN         NaN  \n",
       "3              NaN         NaN  \n",
       "4              NaN         NaN  \n",
       "..             ...         ...  \n",
       "131            NaN         NaN  \n",
       "132            NaN         NaN  \n",
       "133            NaN         NaN  \n",
       "134            NaN         NaN  \n",
       "135            NaN         NaN  \n",
       "\n",
       "[2648 rows x 6 columns]"
      ]
     },
     "execution_count": 7,
     "metadata": {},
     "output_type": "execute_result"
    }
   ],
   "source": [
    "qc"
   ]
  },
  {
   "cell_type": "markdown",
   "metadata": {},
   "source": [
    "## Numbers lost to QC"
   ]
  },
  {
   "cell_type": "code",
   "execution_count": 8,
   "metadata": {},
   "outputs": [
    {
     "data": {
      "text/plain": [
       "minc_bpipe_QC\n",
       "Maybe     866\n",
       "No        730\n",
       "NaN      1052\n",
       "dtype: int64"
      ]
     },
     "execution_count": 8,
     "metadata": {},
     "output_type": "execute_result"
    }
   ],
   "source": [
    "qc.groupby(\"minc_bpipe_QC\", dropna=False).size()"
   ]
  },
  {
   "cell_type": "code",
   "execution_count": 9,
   "metadata": {},
   "outputs": [
    {
     "data": {
      "text/plain": [
       "NaN      39.728097\n",
       "Maybe    32.703927\n",
       "No       27.567976\n",
       "Name: minc_bpipe_QC, dtype: float64"
      ]
     },
     "execution_count": 9,
     "metadata": {},
     "output_type": "execute_result"
    }
   ],
   "source": [
    "qc['minc_bpipe_QC'].value_counts(normalize=True, dropna=False) * 100"
   ]
  },
  {
   "cell_type": "markdown",
   "metadata": {},
   "source": [
    "How many subjects are being excluded due to QC?"
   ]
  },
  {
   "cell_type": "code",
   "execution_count": 8,
   "metadata": {},
   "outputs": [],
   "source": [
    "#Detailed exclusion\n",
    "conditions = [\n",
    "    (qc['minc_bpipe_QC'] == 'No'),\n",
    "    (qc['minc_bpipe_QC'] == 'Maybe'),\n",
    "    (qc['MAGeT_QC'] == 'No'),\n",
    "    (qc['MAGeT_QC'] == 'Maybe') & (qc['HD_decision'] == 'Yes'),\n",
    "    (qc['MAGeT_QC'] == 'Maybe') & (qc['HD_decision'] == 'No'),\n",
    "    (qc['minc_bpipe_QC'].isna()) & (qc['MAGeT_QC'].isna())\n",
    "    ]\n",
    "\n",
    "values = ['MINC', 'Maybe', 'MAGeT', 'Good', 'MAGeT', 'Good']\n",
    "\n",
    "qc['Excl'] = np.select(conditions, values)"
   ]
  },
  {
   "cell_type": "code",
   "execution_count": 11,
   "metadata": {},
   "outputs": [
    {
     "data": {
      "text/plain": [
       "Excl\n",
       "0          7\n",
       "Good     979\n",
       "MAGeT     66\n",
       "MINC     730\n",
       "Maybe    866\n",
       "dtype: int64"
      ]
     },
     "execution_count": 11,
     "metadata": {},
     "output_type": "execute_result"
    }
   ],
   "source": [
    "qc.groupby(\"Excl\").size()"
   ]
  },
  {
   "cell_type": "code",
   "execution_count": 13,
   "metadata": {},
   "outputs": [
    {
     "data": {
      "text/plain": [
       "Good     36.971299\n",
       "Maybe    32.703927\n",
       "MINC     27.567976\n",
       "MAGeT     2.492447\n",
       "0         0.264350\n",
       "Name: Excl, dtype: float64"
      ]
     },
     "execution_count": 13,
     "metadata": {},
     "output_type": "execute_result"
    }
   ],
   "source": [
    "qc['Excl'].value_counts(normalize=True) * 100"
   ]
  },
  {
   "cell_type": "markdown",
   "metadata": {},
   "source": [
    "How many additional once they're completely QC'ed?"
   ]
  },
  {
   "cell_type": "code",
   "execution_count": 14,
   "metadata": {},
   "outputs": [],
   "source": [
    "finished = 345 + 317 + 323 + 592"
   ]
  },
  {
   "cell_type": "code",
   "execution_count": 15,
   "metadata": {},
   "outputs": [
    {
     "data": {
      "text/plain": [
       "0.04185161699429296"
      ]
     },
     "execution_count": 15,
     "metadata": {},
     "output_type": "execute_result"
    }
   ],
   "source": [
    "66 / finished"
   ]
  },
  {
   "cell_type": "code",
   "execution_count": 16,
   "metadata": {},
   "outputs": [
    {
     "data": {
      "text/plain": [
       "105.92"
      ]
     },
     "execution_count": 16,
     "metadata": {},
     "output_type": "execute_result"
    }
   ],
   "source": [
    "2648 * .04"
   ]
  },
  {
   "cell_type": "markdown",
   "metadata": {},
   "source": [
    "## Are there differences between usable and excluded group?"
   ]
  },
  {
   "cell_type": "code",
   "execution_count": 9,
   "metadata": {},
   "outputs": [],
   "source": [
    "#Simple exclusion, Maybe's not included\n",
    "conditions = [\n",
    "    (qc['Excl'] == 'MINC'),\n",
    "    (qc['Excl'] == 'Maybe'),\n",
    "    (qc['Excl'] == 'MAGeT'),\n",
    "    (qc['Excl'] == 'Good'),\n",
    "    ]\n",
    "\n",
    "values = ['Yes', 'Yes', 'Yes', 'No']\n",
    "\n",
    "qc['Excl_s'] = np.select(conditions, values)"
   ]
  },
  {
   "cell_type": "code",
   "execution_count": 10,
   "metadata": {},
   "outputs": [],
   "source": [
    "#Simple exclusion, Maybe's included\n",
    "conditions = [\n",
    "    (qc['Excl'] == 'MINC'),\n",
    "    (qc['Excl'] == 'Maybe'),\n",
    "    (qc['Excl'] == 'MAGeT'),\n",
    "    (qc['Excl'] == 'Good'),\n",
    "    ]\n",
    "\n",
    "values = ['Yes', 'No', 'Yes', 'No']\n",
    "\n",
    "qc['Excl_sM'] = np.select(conditions, values)"
   ]
  },
  {
   "cell_type": "code",
   "execution_count": 19,
   "metadata": {},
   "outputs": [
    {
     "data": {
      "text/html": [
       "<div>\n",
       "<style scoped>\n",
       "    .dataframe tbody tr th:only-of-type {\n",
       "        vertical-align: middle;\n",
       "    }\n",
       "\n",
       "    .dataframe tbody tr th {\n",
       "        vertical-align: top;\n",
       "    }\n",
       "\n",
       "    .dataframe thead th {\n",
       "        text-align: right;\n",
       "    }\n",
       "</style>\n",
       "<table border=\"1\" class=\"dataframe\">\n",
       "  <thead>\n",
       "    <tr style=\"text-align: right;\">\n",
       "      <th></th>\n",
       "      <th>Subj</th>\n",
       "      <th>minc_bpipe_QC</th>\n",
       "      <th>minc_bpipe_notes</th>\n",
       "      <th>MAGeT_QC</th>\n",
       "      <th>MAGeT_QC_notes</th>\n",
       "      <th>HD_decision</th>\n",
       "      <th>Excl</th>\n",
       "      <th>Excl_s</th>\n",
       "      <th>Excl_sM</th>\n",
       "    </tr>\n",
       "  </thead>\n",
       "  <tbody>\n",
       "    <tr>\n",
       "      <th>0</th>\n",
       "      <td>NDAR_INV00BD7VDC</td>\n",
       "      <td>No</td>\n",
       "      <td>NaN</td>\n",
       "      <td>NaN</td>\n",
       "      <td>NaN</td>\n",
       "      <td>NaN</td>\n",
       "      <td>MINC</td>\n",
       "      <td>Yes</td>\n",
       "      <td>Yes</td>\n",
       "    </tr>\n",
       "    <tr>\n",
       "      <th>1</th>\n",
       "      <td>NDAR_INV01RGTWD2</td>\n",
       "      <td>NaN</td>\n",
       "      <td>NaN</td>\n",
       "      <td>NaN</td>\n",
       "      <td>NaN</td>\n",
       "      <td>NaN</td>\n",
       "      <td>Good</td>\n",
       "      <td>No</td>\n",
       "      <td>No</td>\n",
       "    </tr>\n",
       "    <tr>\n",
       "      <th>2</th>\n",
       "      <td>NDAR_INV021N0FLH</td>\n",
       "      <td>NaN</td>\n",
       "      <td>NaN</td>\n",
       "      <td>NaN</td>\n",
       "      <td>NaN</td>\n",
       "      <td>NaN</td>\n",
       "      <td>Good</td>\n",
       "      <td>No</td>\n",
       "      <td>No</td>\n",
       "    </tr>\n",
       "    <tr>\n",
       "      <th>3</th>\n",
       "      <td>NDAR_INV07BR8GMY</td>\n",
       "      <td>NaN</td>\n",
       "      <td>NaN</td>\n",
       "      <td>NaN</td>\n",
       "      <td>NaN</td>\n",
       "      <td>NaN</td>\n",
       "      <td>Good</td>\n",
       "      <td>No</td>\n",
       "      <td>No</td>\n",
       "    </tr>\n",
       "    <tr>\n",
       "      <th>4</th>\n",
       "      <td>NDAR_INV08WDFUCE</td>\n",
       "      <td>NaN</td>\n",
       "      <td>NaN</td>\n",
       "      <td>NaN</td>\n",
       "      <td>NaN</td>\n",
       "      <td>NaN</td>\n",
       "      <td>Good</td>\n",
       "      <td>No</td>\n",
       "      <td>No</td>\n",
       "    </tr>\n",
       "    <tr>\n",
       "      <th>...</th>\n",
       "      <td>...</td>\n",
       "      <td>...</td>\n",
       "      <td>...</td>\n",
       "      <td>...</td>\n",
       "      <td>...</td>\n",
       "      <td>...</td>\n",
       "      <td>...</td>\n",
       "      <td>...</td>\n",
       "      <td>...</td>\n",
       "    </tr>\n",
       "    <tr>\n",
       "      <th>131</th>\n",
       "      <td>NDAR_INVYU20X3EV</td>\n",
       "      <td>NaN</td>\n",
       "      <td>NaN</td>\n",
       "      <td>NaN</td>\n",
       "      <td>NaN</td>\n",
       "      <td>NaN</td>\n",
       "      <td>Good</td>\n",
       "      <td>No</td>\n",
       "      <td>No</td>\n",
       "    </tr>\n",
       "    <tr>\n",
       "      <th>132</th>\n",
       "      <td>NDAR_INVZ730VLUZ</td>\n",
       "      <td>No</td>\n",
       "      <td>Multiple pieces missing</td>\n",
       "      <td>NaN</td>\n",
       "      <td>NaN</td>\n",
       "      <td>NaN</td>\n",
       "      <td>MINC</td>\n",
       "      <td>Yes</td>\n",
       "      <td>Yes</td>\n",
       "    </tr>\n",
       "    <tr>\n",
       "      <th>133</th>\n",
       "      <td>NDAR_INVZF3VJWAN</td>\n",
       "      <td>Maybe</td>\n",
       "      <td>Moderate piece missing</td>\n",
       "      <td>NaN</td>\n",
       "      <td>NaN</td>\n",
       "      <td>NaN</td>\n",
       "      <td>Maybe</td>\n",
       "      <td>Yes</td>\n",
       "      <td>No</td>\n",
       "    </tr>\n",
       "    <tr>\n",
       "      <th>134</th>\n",
       "      <td>NDAR_INVZL6CFV5G</td>\n",
       "      <td>NaN</td>\n",
       "      <td>NaN</td>\n",
       "      <td>NaN</td>\n",
       "      <td>NaN</td>\n",
       "      <td>NaN</td>\n",
       "      <td>Good</td>\n",
       "      <td>No</td>\n",
       "      <td>No</td>\n",
       "    </tr>\n",
       "    <tr>\n",
       "      <th>135</th>\n",
       "      <td>NDAR_INVZL9DL58E</td>\n",
       "      <td>Maybe</td>\n",
       "      <td>Small piece missing</td>\n",
       "      <td>NaN</td>\n",
       "      <td>NaN</td>\n",
       "      <td>NaN</td>\n",
       "      <td>Maybe</td>\n",
       "      <td>Yes</td>\n",
       "      <td>No</td>\n",
       "    </tr>\n",
       "  </tbody>\n",
       "</table>\n",
       "<p>2648 rows × 9 columns</p>\n",
       "</div>"
      ],
      "text/plain": [
       "                 Subj minc_bpipe_QC         minc_bpipe_notes MAGeT_QC  \\\n",
       "0    NDAR_INV00BD7VDC            No                      NaN      NaN   \n",
       "1    NDAR_INV01RGTWD2           NaN                      NaN      NaN   \n",
       "2    NDAR_INV021N0FLH           NaN                      NaN      NaN   \n",
       "3    NDAR_INV07BR8GMY           NaN                      NaN      NaN   \n",
       "4    NDAR_INV08WDFUCE           NaN                      NaN      NaN   \n",
       "..                ...           ...                      ...      ...   \n",
       "131  NDAR_INVYU20X3EV           NaN                      NaN      NaN   \n",
       "132  NDAR_INVZ730VLUZ            No  Multiple pieces missing      NaN   \n",
       "133  NDAR_INVZF3VJWAN         Maybe   Moderate piece missing      NaN   \n",
       "134  NDAR_INVZL6CFV5G           NaN                      NaN      NaN   \n",
       "135  NDAR_INVZL9DL58E         Maybe      Small piece missing      NaN   \n",
       "\n",
       "    MAGeT_QC_notes HD_decision   Excl Excl_s Excl_sM  \n",
       "0              NaN         NaN   MINC    Yes     Yes  \n",
       "1              NaN         NaN   Good     No      No  \n",
       "2              NaN         NaN   Good     No      No  \n",
       "3              NaN         NaN   Good     No      No  \n",
       "4              NaN         NaN   Good     No      No  \n",
       "..             ...         ...    ...    ...     ...  \n",
       "131            NaN         NaN   Good     No      No  \n",
       "132            NaN         NaN   MINC    Yes     Yes  \n",
       "133            NaN         NaN  Maybe    Yes      No  \n",
       "134            NaN         NaN   Good     No      No  \n",
       "135            NaN         NaN  Maybe    Yes      No  \n",
       "\n",
       "[2648 rows x 9 columns]"
      ]
     },
     "execution_count": 19,
     "metadata": {},
     "output_type": "execute_result"
    }
   ],
   "source": [
    "qc"
   ]
  },
  {
   "cell_type": "code",
   "execution_count": 16,
   "metadata": {},
   "outputs": [],
   "source": [
    "# Loading and merging phenotypic data\n",
    "phenoPath = filePath + 'Pilot/data_pulls/'\n",
    "\n",
    "Demographics = pd.read_csv(phenoPath + 'Demographics.csv')\n",
    "NIHtb = pd.read_csv(phenoPath + 'NIHtb.csv')\n",
    "Pearson = pd.read_csv(phenoPath + 'Pearson_scores.csv')\n",
    "MRI_info = pd.read_csv(phenoPath + 'MRI_info.csv')\n",
    "\n",
    "pheno = pd.merge(Demographics,NIHtb,on='SUBJECTKEY',how='outer')\n",
    "pheno = pd.merge(pheno,Pearson,on='SUBJECTKEY',how='outer')\n",
    "pheno = pd.merge(pheno,MRI_info,on='SUBJECTKEY',how='outer')"
   ]
  },
  {
   "cell_type": "code",
   "execution_count": 17,
   "metadata": {},
   "outputs": [],
   "source": [
    "#Merging all data\n",
    "data = pd.merge(qc,pheno,left_on='Subj',right_on='SUBJECTKEY',how='inner')"
   ]
  },
  {
   "cell_type": "markdown",
   "metadata": {},
   "source": [
    "### Sex"
   ]
  },
  {
   "cell_type": "markdown",
   "metadata": {},
   "source": [
    "#### Maybe's not included"
   ]
  },
  {
   "cell_type": "code",
   "execution_count": 22,
   "metadata": {},
   "outputs": [
    {
     "data": {
      "text/html": [
       "<div>\n",
       "<style scoped>\n",
       "    .dataframe tbody tr th:only-of-type {\n",
       "        vertical-align: middle;\n",
       "    }\n",
       "\n",
       "    .dataframe tbody tr th {\n",
       "        vertical-align: top;\n",
       "    }\n",
       "\n",
       "    .dataframe thead th {\n",
       "        text-align: right;\n",
       "    }\n",
       "</style>\n",
       "<table border=\"1\" class=\"dataframe\">\n",
       "  <thead>\n",
       "    <tr style=\"text-align: right;\">\n",
       "      <th>Excl_s</th>\n",
       "      <th>0</th>\n",
       "      <th>No</th>\n",
       "      <th>Yes</th>\n",
       "    </tr>\n",
       "    <tr>\n",
       "      <th>SEX</th>\n",
       "      <th></th>\n",
       "      <th></th>\n",
       "      <th></th>\n",
       "    </tr>\n",
       "  </thead>\n",
       "  <tbody>\n",
       "    <tr>\n",
       "      <th>F</th>\n",
       "      <td>4</td>\n",
       "      <td>409</td>\n",
       "      <td>838</td>\n",
       "    </tr>\n",
       "    <tr>\n",
       "      <th>M</th>\n",
       "      <td>3</td>\n",
       "      <td>570</td>\n",
       "      <td>824</td>\n",
       "    </tr>\n",
       "  </tbody>\n",
       "</table>\n",
       "</div>"
      ],
      "text/plain": [
       "Excl_s  0   No  Yes\n",
       "SEX                \n",
       "F       4  409  838\n",
       "M       3  570  824"
      ]
     },
     "execution_count": 22,
     "metadata": {},
     "output_type": "execute_result"
    }
   ],
   "source": [
    "ct = pd.crosstab(data.SEX, data.Excl_s)\n",
    "pd.crosstab(data.SEX, data.Excl_s)"
   ]
  },
  {
   "cell_type": "code",
   "execution_count": 23,
   "metadata": {},
   "outputs": [
    {
     "data": {
      "text/html": [
       "<div>\n",
       "<style scoped>\n",
       "    .dataframe tbody tr th:only-of-type {\n",
       "        vertical-align: middle;\n",
       "    }\n",
       "\n",
       "    .dataframe tbody tr th {\n",
       "        vertical-align: top;\n",
       "    }\n",
       "\n",
       "    .dataframe thead th {\n",
       "        text-align: right;\n",
       "    }\n",
       "</style>\n",
       "<table border=\"1\" class=\"dataframe\">\n",
       "  <thead>\n",
       "    <tr style=\"text-align: right;\">\n",
       "      <th>Excl_s</th>\n",
       "      <th>0</th>\n",
       "      <th>No</th>\n",
       "      <th>Yes</th>\n",
       "      <th>Diff</th>\n",
       "    </tr>\n",
       "    <tr>\n",
       "      <th>SEX</th>\n",
       "      <th></th>\n",
       "      <th></th>\n",
       "      <th></th>\n",
       "      <th></th>\n",
       "    </tr>\n",
       "  </thead>\n",
       "  <tbody>\n",
       "    <tr>\n",
       "      <th>F</th>\n",
       "      <td>0.003197</td>\n",
       "      <td>0.326938</td>\n",
       "      <td>0.669864</td>\n",
       "      <td>0.342926</td>\n",
       "    </tr>\n",
       "    <tr>\n",
       "      <th>M</th>\n",
       "      <td>0.002147</td>\n",
       "      <td>0.408017</td>\n",
       "      <td>0.589835</td>\n",
       "      <td>0.181818</td>\n",
       "    </tr>\n",
       "  </tbody>\n",
       "</table>\n",
       "</div>"
      ],
      "text/plain": [
       "Excl_s         0        No       Yes      Diff\n",
       "SEX                                           \n",
       "F       0.003197  0.326938  0.669864  0.342926\n",
       "M       0.002147  0.408017  0.589835  0.181818"
      ]
     },
     "execution_count": 23,
     "metadata": {},
     "output_type": "execute_result"
    }
   ],
   "source": [
    "#Normalized\n",
    "ctn = pd.crosstab(data.SEX, data.Excl_s, normalize='index')\n",
    "ctn['Diff'] = ctn['Yes'] - ctn['No']\n",
    "ctn"
   ]
  },
  {
   "cell_type": "code",
   "execution_count": 24,
   "metadata": {},
   "outputs": [
    {
     "name": "stdout",
     "output_type": "stream",
     "text": [
      "Stat:18.74493988372753 P:8.503310201074119e-05 DOF:2 Expected:[[  3.30702417 462.51095166 785.18202417]\n",
      " [  3.69297583 516.48904834 876.81797583]]\n"
     ]
    }
   ],
   "source": [
    "stat, p, dof, expected = chi2_contingency(ct)\n",
    "print(\"Stat:\" + str(stat), \"P:\" + str(p), \"DOF:\" + str(dof), \"Expected:\" + str(expected),)"
   ]
  },
  {
   "cell_type": "markdown",
   "metadata": {},
   "source": [
    "#### Maybe's included"
   ]
  },
  {
   "cell_type": "code",
   "execution_count": 25,
   "metadata": {},
   "outputs": [
    {
     "data": {
      "text/html": [
       "<div>\n",
       "<style scoped>\n",
       "    .dataframe tbody tr th:only-of-type {\n",
       "        vertical-align: middle;\n",
       "    }\n",
       "\n",
       "    .dataframe tbody tr th {\n",
       "        vertical-align: top;\n",
       "    }\n",
       "\n",
       "    .dataframe thead th {\n",
       "        text-align: right;\n",
       "    }\n",
       "</style>\n",
       "<table border=\"1\" class=\"dataframe\">\n",
       "  <thead>\n",
       "    <tr style=\"text-align: right;\">\n",
       "      <th>Excl_sM</th>\n",
       "      <th>0</th>\n",
       "      <th>No</th>\n",
       "      <th>Yes</th>\n",
       "    </tr>\n",
       "    <tr>\n",
       "      <th>SEX</th>\n",
       "      <th></th>\n",
       "      <th></th>\n",
       "      <th></th>\n",
       "    </tr>\n",
       "  </thead>\n",
       "  <tbody>\n",
       "    <tr>\n",
       "      <th>F</th>\n",
       "      <td>4</td>\n",
       "      <td>808</td>\n",
       "      <td>439</td>\n",
       "    </tr>\n",
       "    <tr>\n",
       "      <th>M</th>\n",
       "      <td>3</td>\n",
       "      <td>1037</td>\n",
       "      <td>357</td>\n",
       "    </tr>\n",
       "  </tbody>\n",
       "</table>\n",
       "</div>"
      ],
      "text/plain": [
       "Excl_sM  0    No  Yes\n",
       "SEX                  \n",
       "F        4   808  439\n",
       "M        3  1037  357"
      ]
     },
     "execution_count": 25,
     "metadata": {},
     "output_type": "execute_result"
    }
   ],
   "source": [
    "ct = pd.crosstab(data.SEX, data.Excl_sM)\n",
    "pd.crosstab(data.SEX, data.Excl_sM)"
   ]
  },
  {
   "cell_type": "code",
   "execution_count": 26,
   "metadata": {},
   "outputs": [
    {
     "data": {
      "text/html": [
       "<div>\n",
       "<style scoped>\n",
       "    .dataframe tbody tr th:only-of-type {\n",
       "        vertical-align: middle;\n",
       "    }\n",
       "\n",
       "    .dataframe tbody tr th {\n",
       "        vertical-align: top;\n",
       "    }\n",
       "\n",
       "    .dataframe thead th {\n",
       "        text-align: right;\n",
       "    }\n",
       "</style>\n",
       "<table border=\"1\" class=\"dataframe\">\n",
       "  <thead>\n",
       "    <tr style=\"text-align: right;\">\n",
       "      <th>Excl_sM</th>\n",
       "      <th>0</th>\n",
       "      <th>No</th>\n",
       "      <th>Yes</th>\n",
       "      <th>Diff</th>\n",
       "    </tr>\n",
       "    <tr>\n",
       "      <th>SEX</th>\n",
       "      <th></th>\n",
       "      <th></th>\n",
       "      <th></th>\n",
       "      <th></th>\n",
       "    </tr>\n",
       "  </thead>\n",
       "  <tbody>\n",
       "    <tr>\n",
       "      <th>F</th>\n",
       "      <td>0.003197</td>\n",
       "      <td>0.645883</td>\n",
       "      <td>0.350919</td>\n",
       "      <td>-0.294964</td>\n",
       "    </tr>\n",
       "    <tr>\n",
       "      <th>M</th>\n",
       "      <td>0.002147</td>\n",
       "      <td>0.742305</td>\n",
       "      <td>0.255548</td>\n",
       "      <td>-0.486757</td>\n",
       "    </tr>\n",
       "  </tbody>\n",
       "</table>\n",
       "</div>"
      ],
      "text/plain": [
       "Excl_sM         0        No       Yes      Diff\n",
       "SEX                                            \n",
       "F        0.003197  0.645883  0.350919 -0.294964\n",
       "M        0.002147  0.742305  0.255548 -0.486757"
      ]
     },
     "execution_count": 26,
     "metadata": {},
     "output_type": "execute_result"
    }
   ],
   "source": [
    "#Normalized\n",
    "ctn = pd.crosstab(data.SEX, data.Excl_sM, normalize='index')\n",
    "ctn['Diff'] = ctn['Yes'] - ctn['No']\n",
    "ctn"
   ]
  },
  {
   "cell_type": "code",
   "execution_count": 27,
   "metadata": {},
   "outputs": [
    {
     "name": "stdout",
     "output_type": "stream",
     "text": [
      "Stat:29.05186751187344 P:4.914361786531084e-07 DOF:2 Expected:[[  3.30702417 871.63708459 376.05589124]\n",
      " [  3.69297583 973.36291541 419.94410876]]\n"
     ]
    }
   ],
   "source": [
    "stat, p, dof, expected = chi2_contingency(ct)\n",
    "print(\"Stat:\" + str(stat), \"P:\" + str(p), \"DOF:\" + str(dof), \"Expected:\" + str(expected),)"
   ]
  },
  {
   "cell_type": "markdown",
   "metadata": {},
   "source": [
    "### SES"
   ]
  },
  {
   "cell_type": "markdown",
   "metadata": {},
   "source": [
    "#### Maybe's not included"
   ]
  },
  {
   "cell_type": "code",
   "execution_count": 28,
   "metadata": {},
   "outputs": [
    {
     "data": {
      "text/html": [
       "<div>\n",
       "<style scoped>\n",
       "    .dataframe tbody tr th:only-of-type {\n",
       "        vertical-align: middle;\n",
       "    }\n",
       "\n",
       "    .dataframe tbody tr th {\n",
       "        vertical-align: top;\n",
       "    }\n",
       "\n",
       "    .dataframe thead th {\n",
       "        text-align: right;\n",
       "    }\n",
       "</style>\n",
       "<table border=\"1\" class=\"dataframe\">\n",
       "  <thead>\n",
       "    <tr style=\"text-align: right;\">\n",
       "      <th>Excl_s</th>\n",
       "      <th>0</th>\n",
       "      <th>No</th>\n",
       "      <th>Yes</th>\n",
       "    </tr>\n",
       "    <tr>\n",
       "      <th>DEMO_COMB_INCOME_V2</th>\n",
       "      <th></th>\n",
       "      <th></th>\n",
       "      <th></th>\n",
       "    </tr>\n",
       "  </thead>\n",
       "  <tbody>\n",
       "    <tr>\n",
       "      <th>1.0</th>\n",
       "      <td>0</td>\n",
       "      <td>6</td>\n",
       "      <td>13</td>\n",
       "    </tr>\n",
       "    <tr>\n",
       "      <th>2.0</th>\n",
       "      <td>0</td>\n",
       "      <td>10</td>\n",
       "      <td>13</td>\n",
       "    </tr>\n",
       "    <tr>\n",
       "      <th>3.0</th>\n",
       "      <td>0</td>\n",
       "      <td>7</td>\n",
       "      <td>8</td>\n",
       "    </tr>\n",
       "    <tr>\n",
       "      <th>4.0</th>\n",
       "      <td>1</td>\n",
       "      <td>14</td>\n",
       "      <td>26</td>\n",
       "    </tr>\n",
       "    <tr>\n",
       "      <th>5.0</th>\n",
       "      <td>0</td>\n",
       "      <td>31</td>\n",
       "      <td>40</td>\n",
       "    </tr>\n",
       "    <tr>\n",
       "      <th>6.0</th>\n",
       "      <td>0</td>\n",
       "      <td>55</td>\n",
       "      <td>89</td>\n",
       "    </tr>\n",
       "    <tr>\n",
       "      <th>7.0</th>\n",
       "      <td>1</td>\n",
       "      <td>141</td>\n",
       "      <td>239</td>\n",
       "    </tr>\n",
       "    <tr>\n",
       "      <th>8.0</th>\n",
       "      <td>2</td>\n",
       "      <td>174</td>\n",
       "      <td>290</td>\n",
       "    </tr>\n",
       "    <tr>\n",
       "      <th>9.0</th>\n",
       "      <td>3</td>\n",
       "      <td>403</td>\n",
       "      <td>685</td>\n",
       "    </tr>\n",
       "    <tr>\n",
       "      <th>10.0</th>\n",
       "      <td>0</td>\n",
       "      <td>138</td>\n",
       "      <td>259</td>\n",
       "    </tr>\n",
       "  </tbody>\n",
       "</table>\n",
       "</div>"
      ],
      "text/plain": [
       "Excl_s               0   No  Yes\n",
       "DEMO_COMB_INCOME_V2             \n",
       "1.0                  0    6   13\n",
       "2.0                  0   10   13\n",
       "3.0                  0    7    8\n",
       "4.0                  1   14   26\n",
       "5.0                  0   31   40\n",
       "6.0                  0   55   89\n",
       "7.0                  1  141  239\n",
       "8.0                  2  174  290\n",
       "9.0                  3  403  685\n",
       "10.0                 0  138  259"
      ]
     },
     "execution_count": 28,
     "metadata": {},
     "output_type": "execute_result"
    }
   ],
   "source": [
    "ct = pd.crosstab(data.DEMO_COMB_INCOME_V2, data.Excl_s)\n",
    "pd.crosstab(data.DEMO_COMB_INCOME_V2, data.Excl_s)"
   ]
  },
  {
   "cell_type": "code",
   "execution_count": 29,
   "metadata": {},
   "outputs": [
    {
     "data": {
      "text/html": [
       "<div>\n",
       "<style scoped>\n",
       "    .dataframe tbody tr th:only-of-type {\n",
       "        vertical-align: middle;\n",
       "    }\n",
       "\n",
       "    .dataframe tbody tr th {\n",
       "        vertical-align: top;\n",
       "    }\n",
       "\n",
       "    .dataframe thead th {\n",
       "        text-align: right;\n",
       "    }\n",
       "</style>\n",
       "<table border=\"1\" class=\"dataframe\">\n",
       "  <thead>\n",
       "    <tr style=\"text-align: right;\">\n",
       "      <th>Excl_s</th>\n",
       "      <th>0</th>\n",
       "      <th>No</th>\n",
       "      <th>Yes</th>\n",
       "      <th>Diff</th>\n",
       "    </tr>\n",
       "    <tr>\n",
       "      <th>DEMO_COMB_INCOME_V2</th>\n",
       "      <th></th>\n",
       "      <th></th>\n",
       "      <th></th>\n",
       "      <th></th>\n",
       "    </tr>\n",
       "  </thead>\n",
       "  <tbody>\n",
       "    <tr>\n",
       "      <th>1.0</th>\n",
       "      <td>0.000000</td>\n",
       "      <td>0.315789</td>\n",
       "      <td>0.684211</td>\n",
       "      <td>0.368421</td>\n",
       "    </tr>\n",
       "    <tr>\n",
       "      <th>2.0</th>\n",
       "      <td>0.000000</td>\n",
       "      <td>0.434783</td>\n",
       "      <td>0.565217</td>\n",
       "      <td>0.130435</td>\n",
       "    </tr>\n",
       "    <tr>\n",
       "      <th>3.0</th>\n",
       "      <td>0.000000</td>\n",
       "      <td>0.466667</td>\n",
       "      <td>0.533333</td>\n",
       "      <td>0.066667</td>\n",
       "    </tr>\n",
       "    <tr>\n",
       "      <th>4.0</th>\n",
       "      <td>0.024390</td>\n",
       "      <td>0.341463</td>\n",
       "      <td>0.634146</td>\n",
       "      <td>0.292683</td>\n",
       "    </tr>\n",
       "    <tr>\n",
       "      <th>5.0</th>\n",
       "      <td>0.000000</td>\n",
       "      <td>0.436620</td>\n",
       "      <td>0.563380</td>\n",
       "      <td>0.126761</td>\n",
       "    </tr>\n",
       "    <tr>\n",
       "      <th>6.0</th>\n",
       "      <td>0.000000</td>\n",
       "      <td>0.381944</td>\n",
       "      <td>0.618056</td>\n",
       "      <td>0.236111</td>\n",
       "    </tr>\n",
       "    <tr>\n",
       "      <th>7.0</th>\n",
       "      <td>0.002625</td>\n",
       "      <td>0.370079</td>\n",
       "      <td>0.627297</td>\n",
       "      <td>0.257218</td>\n",
       "    </tr>\n",
       "    <tr>\n",
       "      <th>8.0</th>\n",
       "      <td>0.004292</td>\n",
       "      <td>0.373391</td>\n",
       "      <td>0.622318</td>\n",
       "      <td>0.248927</td>\n",
       "    </tr>\n",
       "    <tr>\n",
       "      <th>9.0</th>\n",
       "      <td>0.002750</td>\n",
       "      <td>0.369386</td>\n",
       "      <td>0.627864</td>\n",
       "      <td>0.258478</td>\n",
       "    </tr>\n",
       "    <tr>\n",
       "      <th>10.0</th>\n",
       "      <td>0.000000</td>\n",
       "      <td>0.347607</td>\n",
       "      <td>0.652393</td>\n",
       "      <td>0.304786</td>\n",
       "    </tr>\n",
       "  </tbody>\n",
       "</table>\n",
       "</div>"
      ],
      "text/plain": [
       "Excl_s                      0        No       Yes      Diff\n",
       "DEMO_COMB_INCOME_V2                                        \n",
       "1.0                  0.000000  0.315789  0.684211  0.368421\n",
       "2.0                  0.000000  0.434783  0.565217  0.130435\n",
       "3.0                  0.000000  0.466667  0.533333  0.066667\n",
       "4.0                  0.024390  0.341463  0.634146  0.292683\n",
       "5.0                  0.000000  0.436620  0.563380  0.126761\n",
       "6.0                  0.000000  0.381944  0.618056  0.236111\n",
       "7.0                  0.002625  0.370079  0.627297  0.257218\n",
       "8.0                  0.004292  0.373391  0.622318  0.248927\n",
       "9.0                  0.002750  0.369386  0.627864  0.258478\n",
       "10.0                 0.000000  0.347607  0.652393  0.304786"
      ]
     },
     "execution_count": 29,
     "metadata": {},
     "output_type": "execute_result"
    }
   ],
   "source": [
    "#Normalized\n",
    "ctn = pd.crosstab(data.DEMO_COMB_INCOME_V2, data.Excl_s, normalize='index')\n",
    "ctn['Diff'] = ctn['Yes'] - ctn['No']\n",
    "ctn"
   ]
  },
  {
   "cell_type": "code",
   "execution_count": 30,
   "metadata": {},
   "outputs": [
    {
     "name": "stdout",
     "output_type": "stream",
     "text": [
      "Stat:13.281855761138752 P:0.7745640296556872 DOF:18 Expected:[[5.02265861e-02 7.02454683e+00 1.19252266e+01]\n",
      " [6.08006042e-02 8.50339879e+00 1.44358006e+01]\n",
      " [3.96525680e-02 5.54569486e+00 9.41465257e+00]\n",
      " [1.08383686e-01 1.51582326e+01 2.57333837e+01]\n",
      " [1.87688822e-01 2.62496224e+01 4.45626888e+01]\n",
      " [3.80664653e-01 5.32386707e+01 9.03806647e+01]\n",
      " [1.00717523e+00 1.40860650e+02 2.39132175e+02]\n",
      " [1.23187311e+00 1.72286254e+02 2.92481873e+02]\n",
      " [2.88406344e+00 4.03356873e+02 6.84759063e+02]\n",
      " [1.04947130e+00 1.46776057e+02 2.49174471e+02]]\n"
     ]
    }
   ],
   "source": [
    "stat, p, dof, expected = chi2_contingency(ct)\n",
    "print(\"Stat:\" + str(stat), \"P:\" + str(p), \"DOF:\" + str(dof), \"Expected:\" + str(expected),)"
   ]
  },
  {
   "cell_type": "markdown",
   "metadata": {},
   "source": [
    "#### Maybe's included"
   ]
  },
  {
   "cell_type": "code",
   "execution_count": 31,
   "metadata": {},
   "outputs": [
    {
     "data": {
      "text/html": [
       "<div>\n",
       "<style scoped>\n",
       "    .dataframe tbody tr th:only-of-type {\n",
       "        vertical-align: middle;\n",
       "    }\n",
       "\n",
       "    .dataframe tbody tr th {\n",
       "        vertical-align: top;\n",
       "    }\n",
       "\n",
       "    .dataframe thead th {\n",
       "        text-align: right;\n",
       "    }\n",
       "</style>\n",
       "<table border=\"1\" class=\"dataframe\">\n",
       "  <thead>\n",
       "    <tr style=\"text-align: right;\">\n",
       "      <th>Excl_sM</th>\n",
       "      <th>0</th>\n",
       "      <th>No</th>\n",
       "      <th>Yes</th>\n",
       "    </tr>\n",
       "    <tr>\n",
       "      <th>DEMO_COMB_INCOME_V2</th>\n",
       "      <th></th>\n",
       "      <th></th>\n",
       "      <th></th>\n",
       "    </tr>\n",
       "  </thead>\n",
       "  <tbody>\n",
       "    <tr>\n",
       "      <th>1.0</th>\n",
       "      <td>0</td>\n",
       "      <td>12</td>\n",
       "      <td>7</td>\n",
       "    </tr>\n",
       "    <tr>\n",
       "      <th>2.0</th>\n",
       "      <td>0</td>\n",
       "      <td>18</td>\n",
       "      <td>5</td>\n",
       "    </tr>\n",
       "    <tr>\n",
       "      <th>3.0</th>\n",
       "      <td>0</td>\n",
       "      <td>11</td>\n",
       "      <td>4</td>\n",
       "    </tr>\n",
       "    <tr>\n",
       "      <th>4.0</th>\n",
       "      <td>1</td>\n",
       "      <td>29</td>\n",
       "      <td>11</td>\n",
       "    </tr>\n",
       "    <tr>\n",
       "      <th>5.0</th>\n",
       "      <td>0</td>\n",
       "      <td>52</td>\n",
       "      <td>19</td>\n",
       "    </tr>\n",
       "    <tr>\n",
       "      <th>6.0</th>\n",
       "      <td>0</td>\n",
       "      <td>98</td>\n",
       "      <td>46</td>\n",
       "    </tr>\n",
       "    <tr>\n",
       "      <th>7.0</th>\n",
       "      <td>1</td>\n",
       "      <td>261</td>\n",
       "      <td>119</td>\n",
       "    </tr>\n",
       "    <tr>\n",
       "      <th>8.0</th>\n",
       "      <td>2</td>\n",
       "      <td>332</td>\n",
       "      <td>132</td>\n",
       "    </tr>\n",
       "    <tr>\n",
       "      <th>9.0</th>\n",
       "      <td>3</td>\n",
       "      <td>759</td>\n",
       "      <td>329</td>\n",
       "    </tr>\n",
       "    <tr>\n",
       "      <th>10.0</th>\n",
       "      <td>0</td>\n",
       "      <td>273</td>\n",
       "      <td>124</td>\n",
       "    </tr>\n",
       "  </tbody>\n",
       "</table>\n",
       "</div>"
      ],
      "text/plain": [
       "Excl_sM              0   No  Yes\n",
       "DEMO_COMB_INCOME_V2             \n",
       "1.0                  0   12    7\n",
       "2.0                  0   18    5\n",
       "3.0                  0   11    4\n",
       "4.0                  1   29   11\n",
       "5.0                  0   52   19\n",
       "6.0                  0   98   46\n",
       "7.0                  1  261  119\n",
       "8.0                  2  332  132\n",
       "9.0                  3  759  329\n",
       "10.0                 0  273  124"
      ]
     },
     "execution_count": 31,
     "metadata": {},
     "output_type": "execute_result"
    }
   ],
   "source": [
    "ct = pd.crosstab(data.DEMO_COMB_INCOME_V2, data.Excl_sM)\n",
    "pd.crosstab(data.DEMO_COMB_INCOME_V2, data.Excl_sM)"
   ]
  },
  {
   "cell_type": "code",
   "execution_count": 32,
   "metadata": {},
   "outputs": [
    {
     "data": {
      "text/html": [
       "<div>\n",
       "<style scoped>\n",
       "    .dataframe tbody tr th:only-of-type {\n",
       "        vertical-align: middle;\n",
       "    }\n",
       "\n",
       "    .dataframe tbody tr th {\n",
       "        vertical-align: top;\n",
       "    }\n",
       "\n",
       "    .dataframe thead th {\n",
       "        text-align: right;\n",
       "    }\n",
       "</style>\n",
       "<table border=\"1\" class=\"dataframe\">\n",
       "  <thead>\n",
       "    <tr style=\"text-align: right;\">\n",
       "      <th>Excl_sM</th>\n",
       "      <th>0</th>\n",
       "      <th>No</th>\n",
       "      <th>Yes</th>\n",
       "      <th>Diff</th>\n",
       "    </tr>\n",
       "    <tr>\n",
       "      <th>DEMO_COMB_INCOME_V2</th>\n",
       "      <th></th>\n",
       "      <th></th>\n",
       "      <th></th>\n",
       "      <th></th>\n",
       "    </tr>\n",
       "  </thead>\n",
       "  <tbody>\n",
       "    <tr>\n",
       "      <th>1.0</th>\n",
       "      <td>0.000000</td>\n",
       "      <td>0.631579</td>\n",
       "      <td>0.368421</td>\n",
       "      <td>-0.263158</td>\n",
       "    </tr>\n",
       "    <tr>\n",
       "      <th>2.0</th>\n",
       "      <td>0.000000</td>\n",
       "      <td>0.782609</td>\n",
       "      <td>0.217391</td>\n",
       "      <td>-0.565217</td>\n",
       "    </tr>\n",
       "    <tr>\n",
       "      <th>3.0</th>\n",
       "      <td>0.000000</td>\n",
       "      <td>0.733333</td>\n",
       "      <td>0.266667</td>\n",
       "      <td>-0.466667</td>\n",
       "    </tr>\n",
       "    <tr>\n",
       "      <th>4.0</th>\n",
       "      <td>0.024390</td>\n",
       "      <td>0.707317</td>\n",
       "      <td>0.268293</td>\n",
       "      <td>-0.439024</td>\n",
       "    </tr>\n",
       "    <tr>\n",
       "      <th>5.0</th>\n",
       "      <td>0.000000</td>\n",
       "      <td>0.732394</td>\n",
       "      <td>0.267606</td>\n",
       "      <td>-0.464789</td>\n",
       "    </tr>\n",
       "    <tr>\n",
       "      <th>6.0</th>\n",
       "      <td>0.000000</td>\n",
       "      <td>0.680556</td>\n",
       "      <td>0.319444</td>\n",
       "      <td>-0.361111</td>\n",
       "    </tr>\n",
       "    <tr>\n",
       "      <th>7.0</th>\n",
       "      <td>0.002625</td>\n",
       "      <td>0.685039</td>\n",
       "      <td>0.312336</td>\n",
       "      <td>-0.372703</td>\n",
       "    </tr>\n",
       "    <tr>\n",
       "      <th>8.0</th>\n",
       "      <td>0.004292</td>\n",
       "      <td>0.712446</td>\n",
       "      <td>0.283262</td>\n",
       "      <td>-0.429185</td>\n",
       "    </tr>\n",
       "    <tr>\n",
       "      <th>9.0</th>\n",
       "      <td>0.002750</td>\n",
       "      <td>0.695692</td>\n",
       "      <td>0.301558</td>\n",
       "      <td>-0.394134</td>\n",
       "    </tr>\n",
       "    <tr>\n",
       "      <th>10.0</th>\n",
       "      <td>0.000000</td>\n",
       "      <td>0.687657</td>\n",
       "      <td>0.312343</td>\n",
       "      <td>-0.375315</td>\n",
       "    </tr>\n",
       "  </tbody>\n",
       "</table>\n",
       "</div>"
      ],
      "text/plain": [
       "Excl_sM                     0        No       Yes      Diff\n",
       "DEMO_COMB_INCOME_V2                                        \n",
       "1.0                  0.000000  0.631579  0.368421 -0.263158\n",
       "2.0                  0.000000  0.782609  0.217391 -0.565217\n",
       "3.0                  0.000000  0.733333  0.266667 -0.466667\n",
       "4.0                  0.024390  0.707317  0.268293 -0.439024\n",
       "5.0                  0.000000  0.732394  0.267606 -0.464789\n",
       "6.0                  0.000000  0.680556  0.319444 -0.361111\n",
       "7.0                  0.002625  0.685039  0.312336 -0.372703\n",
       "8.0                  0.004292  0.712446  0.283262 -0.429185\n",
       "9.0                  0.002750  0.695692  0.301558 -0.394134\n",
       "10.0                 0.000000  0.687657  0.312343 -0.375315"
      ]
     },
     "execution_count": 32,
     "metadata": {},
     "output_type": "execute_result"
    }
   ],
   "source": [
    "#Normalized\n",
    "ctn = pd.crosstab(data.DEMO_COMB_INCOME_V2, data.Excl_sM, normalize='index')\n",
    "ctn['Diff'] = ctn['Yes'] - ctn['No']\n",
    "ctn"
   ]
  },
  {
   "cell_type": "code",
   "execution_count": 33,
   "metadata": {},
   "outputs": [
    {
     "name": "stdout",
     "output_type": "stream",
     "text": [
      "Stat:12.727439567256575 P:0.8075038713045131 DOF:18 Expected:[[5.02265861e-02 1.32382931e+01 5.71148036e+00]\n",
      " [6.08006042e-02 1.60253021e+01 6.91389728e+00]\n",
      " [3.96525680e-02 1.04512840e+01 4.50906344e+00]\n",
      " [1.08383686e-01 2.85668429e+01 1.23247734e+01]\n",
      " [1.87688822e-01 4.94694109e+01 2.13429003e+01]\n",
      " [3.80664653e-01 1.00332326e+02 4.32870091e+01]\n",
      " [1.00717523e+00 2.65462613e+02 1.14530211e+02]\n",
      " [1.23187311e+00 3.24686556e+02 1.40081571e+02]\n",
      " [2.88406344e+00 7.60156722e+02 3.27959215e+02]\n",
      " [1.04947130e+00 2.76610650e+02 1.19339879e+02]]\n"
     ]
    }
   ],
   "source": [
    "stat, p, dof, expected = chi2_contingency(ct)\n",
    "print(\"Stat:\" + str(stat), \"P:\" + str(p), \"DOF:\" + str(dof), \"Expected:\" + str(expected),)"
   ]
  },
  {
   "cell_type": "markdown",
   "metadata": {},
   "source": [
    "### Age"
   ]
  },
  {
   "cell_type": "code",
   "execution_count": 34,
   "metadata": {},
   "outputs": [],
   "source": [
    "data['Age'] = data['INTERVIEW_AGE'] / 12"
   ]
  },
  {
   "cell_type": "markdown",
   "metadata": {},
   "source": [
    "#### Maybe's not included"
   ]
  },
  {
   "cell_type": "code",
   "execution_count": 35,
   "metadata": {},
   "outputs": [
    {
     "data": {
      "text/plain": [
       "<seaborn.axisgrid.FacetGrid at 0x7f8731889880>"
      ]
     },
     "execution_count": 35,
     "metadata": {},
     "output_type": "execute_result"
    },
    {
     "data": {
      "image/png": "[encoded data removed]",
      "text/plain": [
       "<Figure size 412x360 with 1 Axes>"
      ]
     },
     "metadata": {
      "needs_background": "light"
     },
     "output_type": "display_data"
    }
   ],
   "source": [
    "sns.displot(data, x=\"Age\", hue=\"Excl_s\")"
   ]
  },
  {
   "cell_type": "code",
   "execution_count": 36,
   "metadata": {},
   "outputs": [
    {
     "name": "stdout",
     "output_type": "stream",
     "text": [
      "   Variable       N      Mean        SD        SE  95% Conf.  Interval\n",
      "0  Excluded  1662.0  9.921179  0.624451  0.015317   9.891136  9.951223\n",
      "1    Usable   979.0  9.954716  0.613224  0.019599   9.916255  9.993176\n",
      "2  combined  2641.0  9.933611  0.620408  0.012072   9.909939  9.957283\n",
      "                  Independent t-test    results\n",
      "0  Difference (Excluded - Usable) =     -0.0335\n",
      "1              Degrees of freedom =   2639.0000\n",
      "2                               t =     -1.3419\n",
      "3           Two side test p value =      0.1797\n",
      "4          Difference < 0 p value =      0.0899\n",
      "5          Difference > 0 p value =      0.9101\n",
      "6                       Cohen's d =     -0.0541\n",
      "7                       Hedge's g =     -0.0540\n",
      "8                   Glass's delta =     -0.0537\n",
      "9                     Pearson's r =      0.0261\n"
     ]
    }
   ],
   "source": [
    "summary, results = rp.ttest(group1= data['Age'][data['Excl_s'] == 'Yes'], group1_name= \"Excluded\",\n",
    "                            group2= data['Age'][data['Excl_s'] == 'No'], group2_name= \"Usable\")\n",
    "print(summary)\n",
    "print(results)"
   ]
  },
  {
   "cell_type": "markdown",
   "metadata": {},
   "source": [
    "#### Maybe's included"
   ]
  },
  {
   "cell_type": "code",
   "execution_count": 37,
   "metadata": {},
   "outputs": [
    {
     "data": {
      "text/plain": [
       "<seaborn.axisgrid.FacetGrid at 0x7f8731e30af0>"
      ]
     },
     "execution_count": 37,
     "metadata": {},
     "output_type": "execute_result"
    },
    {
     "data": {
      "image/png": "[encoded data removed]",
      "text/plain": [
       "<Figure size 412x360 with 1 Axes>"
      ]
     },
     "metadata": {
      "needs_background": "light"
     },
     "output_type": "display_data"
    }
   ],
   "source": [
    "sns.displot(data, x=\"Age\", hue=\"Excl_sM\")"
   ]
  },
  {
   "cell_type": "code",
   "execution_count": 38,
   "metadata": {},
   "outputs": [
    {
     "name": "stdout",
     "output_type": "stream",
     "text": [
      "   Variable       N      Mean        SD        SE  95% Conf.  Interval\n",
      "0  Excluded   796.0  9.916039  0.636338  0.022554   9.871765  9.960312\n",
      "1    Usable  1845.0  9.941192  0.613427  0.014281   9.913183  9.969201\n",
      "2  combined  2641.0  9.933611  0.620408  0.012072   9.909939  9.957283\n",
      "                  Independent t-test    results\n",
      "0  Difference (Excluded - Usable) =     -0.0252\n",
      "1              Degrees of freedom =   2639.0000\n",
      "2                               t =     -0.9561\n",
      "3           Two side test p value =      0.3391\n",
      "4          Difference < 0 p value =      0.1696\n",
      "5          Difference > 0 p value =      0.8304\n",
      "6                       Cohen's d =     -0.0405\n",
      "7                       Hedge's g =     -0.0405\n",
      "8                   Glass's delta =     -0.0395\n",
      "9                     Pearson's r =      0.0186\n"
     ]
    }
   ],
   "source": [
    "summary, results = rp.ttest(group1= data['Age'][data['Excl_sM'] == 'Yes'], group1_name= \"Excluded\",\n",
    "                            group2= data['Age'][data['Excl_sM'] == 'No'], group2_name= \"Usable\")\n",
    "print(summary)\n",
    "print(results)"
   ]
  },
  {
   "cell_type": "markdown",
   "metadata": {},
   "source": [
    "### Reading score"
   ]
  },
  {
   "cell_type": "markdown",
   "metadata": {},
   "source": [
    "#### Maybe's not included"
   ]
  },
  {
   "cell_type": "code",
   "execution_count": 39,
   "metadata": {},
   "outputs": [
    {
     "data": {
      "text/plain": [
       "<seaborn.axisgrid.FacetGrid at 0x7f87328e5fd0>"
      ]
     },
     "execution_count": 39,
     "metadata": {},
     "output_type": "execute_result"
    },
    {
     "data": {
      "image/png": "[encoded data removed]",
      "text/plain": [
       "<Figure size 412x360 with 1 Axes>"
      ]
     },
     "metadata": {
      "needs_background": "light"
     },
     "output_type": "display_data"
    }
   ],
   "source": [
    "sns.displot(data, x=\"NIHTBX_READING_AGECORRECTED\", hue=\"Excl_s\")"
   ]
  },
  {
   "cell_type": "code",
   "execution_count": 40,
   "metadata": {},
   "outputs": [
    {
     "name": "stdout",
     "output_type": "stream",
     "text": [
      "   Variable       N        Mean         SD        SE   95% Conf.    Interval\n",
      "0  Excluded  1662.0  105.507220  18.925396  0.464226  104.596690  106.417750\n",
      "1    Usable   979.0  105.958121  17.469497  0.558328  104.862463  107.053778\n",
      "2  combined  2641.0  105.674366  18.397093  0.357985  104.972406  106.376326\n",
      "                  Independent t-test    results\n",
      "0  Difference (Excluded - Usable) =     -0.4509\n",
      "1              Degrees of freedom =   2639.0000\n",
      "2                               t =     -0.6083\n",
      "3           Two side test p value =      0.5431\n",
      "4          Difference < 0 p value =      0.2715\n",
      "5          Difference > 0 p value =      0.7285\n",
      "6                       Cohen's d =     -0.0245\n",
      "7                       Hedge's g =     -0.0245\n",
      "8                   Glass's delta =     -0.0238\n",
      "9                     Pearson's r =      0.0118\n"
     ]
    }
   ],
   "source": [
    "summary, results = rp.ttest(group1= data['NIHTBX_READING_AGECORRECTED'][data['Excl_s'] == 'Yes'], group1_name= \"Excluded\",\n",
    "                            group2= data['NIHTBX_READING_AGECORRECTED'][data['Excl_s'] == 'No'], group2_name= \"Usable\")\n",
    "print(summary)\n",
    "print(results)"
   ]
  },
  {
   "cell_type": "markdown",
   "metadata": {},
   "source": [
    "#### Maybe's included"
   ]
  },
  {
   "cell_type": "code",
   "execution_count": 41,
   "metadata": {},
   "outputs": [
    {
     "data": {
      "text/plain": [
       "<seaborn.axisgrid.FacetGrid at 0x7f873293a8e0>"
      ]
     },
     "execution_count": 41,
     "metadata": {},
     "output_type": "execute_result"
    },
    {
     "data": {
      "image/png": "[encoded data removed]",
      "text/plain": [
       "<Figure size 412x360 with 1 Axes>"
      ]
     },
     "metadata": {
      "needs_background": "light"
     },
     "output_type": "display_data"
    }
   ],
   "source": [
    "sns.displot(data, x=\"NIHTBX_READING_AGECORRECTED\", hue=\"Excl_sM\")"
   ]
  },
  {
   "cell_type": "code",
   "execution_count": 42,
   "metadata": {},
   "outputs": [
    {
     "name": "stdout",
     "output_type": "stream",
     "text": [
      "   Variable       N        Mean         SD        SE   95% Conf.    Interval\n",
      "0  Excluded   796.0  106.074121  19.916070  0.705906  104.688460  107.459781\n",
      "1    Usable  1845.0  105.501897  17.704449  0.412177  104.693513  106.310281\n",
      "2  combined  2641.0  105.674366  18.397093  0.357985  104.972406  106.376326\n",
      "                  Independent t-test    results\n",
      "0  Difference (Excluded - Usable) =      0.5722\n",
      "1              Degrees of freedom =   2639.0000\n",
      "2                               t =      0.7334\n",
      "3           Two side test p value =      0.4634\n",
      "4          Difference < 0 p value =      0.7683\n",
      "5          Difference > 0 p value =      0.2317\n",
      "6                       Cohen's d =      0.0311\n",
      "7                       Hedge's g =      0.0311\n",
      "8                   Glass's delta =      0.0287\n",
      "9                     Pearson's r =      0.0143\n"
     ]
    }
   ],
   "source": [
    "summary, results = rp.ttest(group1= data['NIHTBX_READING_AGECORRECTED'][data['Excl_sM'] == 'Yes'], group1_name= \"Excluded\",\n",
    "                            group2= data['NIHTBX_READING_AGECORRECTED'][data['Excl_sM'] == 'No'], group2_name= \"Usable\")\n",
    "print(summary)\n",
    "print(results)"
   ]
  },
  {
   "cell_type": "markdown",
   "metadata": {},
   "source": [
    "### Reading score"
   ]
  },
  {
   "cell_type": "markdown",
   "metadata": {},
   "source": [
    "#### Maybe's not included"
   ]
  },
  {
   "cell_type": "code",
   "execution_count": 43,
   "metadata": {},
   "outputs": [
    {
     "data": {
      "text/plain": [
       "<seaborn.axisgrid.FacetGrid at 0x7f873316abb0>"
      ]
     },
     "execution_count": 43,
     "metadata": {},
     "output_type": "execute_result"
    },
    {
     "data": {
      "image/png": "[encoded data removed]",
      "text/plain": [
       "<Figure size 412x360 with 1 Axes>"
      ]
     },
     "metadata": {
      "needs_background": "light"
     },
     "output_type": "display_data"
    }
   ],
   "source": [
    "sns.displot(data, x=\"PEA_WISCV_TSS\", hue=\"Excl_s\")"
   ]
  },
  {
   "cell_type": "code",
   "execution_count": 44,
   "metadata": {},
   "outputs": [
    {
     "name": "stdout",
     "output_type": "stream",
     "text": [
      "   Variable       N       Mean        SD        SE  95% Conf.   Interval\n",
      "0  Excluded  1662.0  10.560770  2.741234  0.067240  10.428885  10.692655\n",
      "1    Usable   979.0  10.643514  2.702832  0.086383  10.473997  10.813031\n",
      "2  combined  2641.0  10.591443  2.726842  0.053061  10.487397  10.695488\n",
      "                  Independent t-test    results\n",
      "0  Difference (Excluded - Usable) =     -0.0827\n",
      "1              Degrees of freedom =   2639.0000\n",
      "2                               t =     -0.7531\n",
      "3           Two side test p value =      0.4514\n",
      "4          Difference < 0 p value =      0.2257\n",
      "5          Difference > 0 p value =      0.7743\n",
      "6                       Cohen's d =     -0.0303\n",
      "7                       Hedge's g =     -0.0303\n",
      "8                   Glass's delta =     -0.0302\n",
      "9                     Pearson's r =      0.0147\n"
     ]
    }
   ],
   "source": [
    "summary, results = rp.ttest(group1= data['PEA_WISCV_TSS'][data['Excl_s'] == 'Yes'], group1_name= \"Excluded\",\n",
    "                            group2= data['PEA_WISCV_TSS'][data['Excl_s'] == 'No'], group2_name= \"Usable\")\n",
    "print(summary)\n",
    "print(results)"
   ]
  },
  {
   "cell_type": "markdown",
   "metadata": {},
   "source": [
    "#### Maybe's included"
   ]
  },
  {
   "cell_type": "code",
   "execution_count": 45,
   "metadata": {},
   "outputs": [
    {
     "data": {
      "text/plain": [
       "<seaborn.axisgrid.FacetGrid at 0x7f8733609790>"
      ]
     },
     "execution_count": 45,
     "metadata": {},
     "output_type": "execute_result"
    },
    {
     "data": {
      "image/png": "[encoded data removed]",
      "text/plain": [
       "<Figure size 412x360 with 1 Axes>"
      ]
     },
     "metadata": {
      "needs_background": "light"
     },
     "output_type": "display_data"
    }
   ],
   "source": [
    "sns.displot(data, x=\"PEA_WISCV_TSS\", hue=\"Excl_sM\")"
   ]
  },
  {
   "cell_type": "code",
   "execution_count": 46,
   "metadata": {},
   "outputs": [
    {
     "name": "stdout",
     "output_type": "stream",
     "text": [
      "   Variable       N       Mean        SD        SE  95% Conf.   Interval\n",
      "0  Excluded   796.0  10.636935  2.749974  0.097470  10.445605  10.828264\n",
      "1    Usable  1845.0  10.571816  2.717316  0.063262  10.447743  10.695888\n",
      "2  combined  2641.0  10.591443  2.726842  0.053061  10.487397  10.695488\n",
      "                  Independent t-test    results\n",
      "0  Difference (Excluded - Usable) =      0.0651\n",
      "1              Degrees of freedom =   2639.0000\n",
      "2                               t =      0.5631\n",
      "3           Two side test p value =      0.5734\n",
      "4          Difference < 0 p value =      0.7133\n",
      "5          Difference > 0 p value =      0.2867\n",
      "6                       Cohen's d =      0.0239\n",
      "7                       Hedge's g =      0.0239\n",
      "8                   Glass's delta =      0.0237\n",
      "9                     Pearson's r =      0.0110\n"
     ]
    }
   ],
   "source": [
    "summary, results = rp.ttest(group1= data['PEA_WISCV_TSS'][data['Excl_sM'] == 'Yes'], group1_name= \"Excluded\",\n",
    "                            group2= data['PEA_WISCV_TSS'][data['Excl_sM'] == 'No'], group2_name= \"Usable\")\n",
    "print(summary)\n",
    "print(results)"
   ]
  },
  {
   "cell_type": "markdown",
   "metadata": {},
   "source": [
    "## Why are more females being excluded? "
   ]
  },
  {
   "cell_type": "markdown",
   "metadata": {},
   "source": [
    "### MRI manufacturer differences"
   ]
  },
  {
   "cell_type": "code",
   "execution_count": 23,
   "metadata": {},
   "outputs": [
    {
     "data": {
      "text/html": [
       "<div>\n",
       "<style scoped>\n",
       "    .dataframe tbody tr th:only-of-type {\n",
       "        vertical-align: middle;\n",
       "    }\n",
       "\n",
       "    .dataframe tbody tr th {\n",
       "        vertical-align: top;\n",
       "    }\n",
       "\n",
       "    .dataframe thead th {\n",
       "        text-align: right;\n",
       "    }\n",
       "</style>\n",
       "<table border=\"1\" class=\"dataframe\">\n",
       "  <thead>\n",
       "    <tr style=\"text-align: right;\">\n",
       "      <th>Excl_sM</th>\n",
       "      <th>0</th>\n",
       "      <th>No</th>\n",
       "      <th>Yes</th>\n",
       "    </tr>\n",
       "    <tr>\n",
       "      <th>MRI_INFO_MANUFACTURERSMN</th>\n",
       "      <th></th>\n",
       "      <th></th>\n",
       "      <th></th>\n",
       "    </tr>\n",
       "  </thead>\n",
       "  <tbody>\n",
       "    <tr>\n",
       "      <th>Achieva dStream</th>\n",
       "      <td>0</td>\n",
       "      <td>247</td>\n",
       "      <td>147</td>\n",
       "    </tr>\n",
       "    <tr>\n",
       "      <th>Ingenia</th>\n",
       "      <td>0</td>\n",
       "      <td>78</td>\n",
       "      <td>58</td>\n",
       "    </tr>\n",
       "    <tr>\n",
       "      <th>Prisma</th>\n",
       "      <td>7</td>\n",
       "      <td>829</td>\n",
       "      <td>298</td>\n",
       "    </tr>\n",
       "    <tr>\n",
       "      <th>Prisma_fit</th>\n",
       "      <td>0</td>\n",
       "      <td>691</td>\n",
       "      <td>293</td>\n",
       "    </tr>\n",
       "  </tbody>\n",
       "</table>\n",
       "</div>"
      ],
      "text/plain": [
       "Excl_sM                   0   No  Yes\n",
       "MRI_INFO_MANUFACTURERSMN             \n",
       "Achieva dStream           0  247  147\n",
       "Ingenia                   0   78   58\n",
       "Prisma                    7  829  298\n",
       "Prisma_fit                0  691  293"
      ]
     },
     "execution_count": 23,
     "metadata": {},
     "output_type": "execute_result"
    }
   ],
   "source": [
    "ct = pd.crosstab(data.MRI_INFO_MANUFACTURERSMN, data.Excl_sM)\n",
    "pd.crosstab(data.MRI_INFO_MANUFACTURERSMN, data.Excl_sM)"
   ]
  },
  {
   "cell_type": "code",
   "execution_count": 24,
   "metadata": {
    "scrolled": false
   },
   "outputs": [
    {
     "data": {
      "text/html": [
       "<div>\n",
       "<style scoped>\n",
       "    .dataframe tbody tr th:only-of-type {\n",
       "        vertical-align: middle;\n",
       "    }\n",
       "\n",
       "    .dataframe tbody tr th {\n",
       "        vertical-align: top;\n",
       "    }\n",
       "\n",
       "    .dataframe thead th {\n",
       "        text-align: right;\n",
       "    }\n",
       "</style>\n",
       "<table border=\"1\" class=\"dataframe\">\n",
       "  <thead>\n",
       "    <tr style=\"text-align: right;\">\n",
       "      <th>Excl_sM</th>\n",
       "      <th>0</th>\n",
       "      <th>No</th>\n",
       "      <th>Yes</th>\n",
       "      <th>Diff</th>\n",
       "    </tr>\n",
       "    <tr>\n",
       "      <th>MRI_INFO_MANUFACTURERSMN</th>\n",
       "      <th></th>\n",
       "      <th></th>\n",
       "      <th></th>\n",
       "      <th></th>\n",
       "    </tr>\n",
       "  </thead>\n",
       "  <tbody>\n",
       "    <tr>\n",
       "      <th>Achieva dStream</th>\n",
       "      <td>0.000000</td>\n",
       "      <td>0.626904</td>\n",
       "      <td>0.373096</td>\n",
       "      <td>-0.253807</td>\n",
       "    </tr>\n",
       "    <tr>\n",
       "      <th>Ingenia</th>\n",
       "      <td>0.000000</td>\n",
       "      <td>0.573529</td>\n",
       "      <td>0.426471</td>\n",
       "      <td>-0.147059</td>\n",
       "    </tr>\n",
       "    <tr>\n",
       "      <th>Prisma</th>\n",
       "      <td>0.006173</td>\n",
       "      <td>0.731041</td>\n",
       "      <td>0.262787</td>\n",
       "      <td>-0.468254</td>\n",
       "    </tr>\n",
       "    <tr>\n",
       "      <th>Prisma_fit</th>\n",
       "      <td>0.000000</td>\n",
       "      <td>0.702236</td>\n",
       "      <td>0.297764</td>\n",
       "      <td>-0.404472</td>\n",
       "    </tr>\n",
       "  </tbody>\n",
       "</table>\n",
       "</div>"
      ],
      "text/plain": [
       "Excl_sM                          0        No       Yes      Diff\n",
       "MRI_INFO_MANUFACTURERSMN                                        \n",
       "Achieva dStream           0.000000  0.626904  0.373096 -0.253807\n",
       "Ingenia                   0.000000  0.573529  0.426471 -0.147059\n",
       "Prisma                    0.006173  0.731041  0.262787 -0.468254\n",
       "Prisma_fit                0.000000  0.702236  0.297764 -0.404472"
      ]
     },
     "execution_count": 24,
     "metadata": {},
     "output_type": "execute_result"
    }
   ],
   "source": [
    "#Normalized\n",
    "ctn = pd.crosstab(data.MRI_INFO_MANUFACTURERSMN, data.Excl_sM, normalize='index')\n",
    "ctn['Diff'] = ctn['Yes'] - ctn['No']\n",
    "ctn"
   ]
  },
  {
   "cell_type": "code",
   "execution_count": 25,
   "metadata": {},
   "outputs": [
    {
     "name": "stdout",
     "output_type": "stream",
     "text": [
      "Stat:36.50115698262164 P:2.2024313590350026e-06 DOF:6 Expected:[[1.04154079e+00 2.74520393e+02 1.18438066e+02]\n",
      " [3.59516616e-01 9.47583082e+01 4.08821752e+01]\n",
      " [2.99773414e+00 7.90117069e+02 3.40885196e+02]\n",
      " [2.60120846e+00 6.85604230e+02 2.95794562e+02]]\n"
     ]
    }
   ],
   "source": [
    "stat, p, dof, expected = chi2_contingency(ct)\n",
    "print(\"Stat:\" + str(stat), \"P:\" + str(p), \"DOF:\" + str(dof), \"Expected:\" + str(expected),)"
   ]
  },
  {
   "cell_type": "markdown",
   "metadata": {},
   "source": [
    "### MRI manufacturer differences"
   ]
  },
  {
   "cell_type": "code",
   "execution_count": 28,
   "metadata": {},
   "outputs": [
    {
     "data": {
      "text/html": [
       "<div>\n",
       "<style scoped>\n",
       "    .dataframe tbody tr th:only-of-type {\n",
       "        vertical-align: middle;\n",
       "    }\n",
       "\n",
       "    .dataframe tbody tr th {\n",
       "        vertical-align: top;\n",
       "    }\n",
       "\n",
       "    .dataframe thead th {\n",
       "        text-align: right;\n",
       "    }\n",
       "</style>\n",
       "<table border=\"1\" class=\"dataframe\">\n",
       "  <thead>\n",
       "    <tr style=\"text-align: right;\">\n",
       "      <th>SEX</th>\n",
       "      <th>F</th>\n",
       "      <th>M</th>\n",
       "    </tr>\n",
       "    <tr>\n",
       "      <th>MRI_INFO_MANUFACTURERSMN</th>\n",
       "      <th></th>\n",
       "      <th></th>\n",
       "    </tr>\n",
       "  </thead>\n",
       "  <tbody>\n",
       "    <tr>\n",
       "      <th>Achieva dStream</th>\n",
       "      <td>202</td>\n",
       "      <td>192</td>\n",
       "    </tr>\n",
       "    <tr>\n",
       "      <th>Ingenia</th>\n",
       "      <td>74</td>\n",
       "      <td>62</td>\n",
       "    </tr>\n",
       "    <tr>\n",
       "      <th>Prisma</th>\n",
       "      <td>502</td>\n",
       "      <td>632</td>\n",
       "    </tr>\n",
       "    <tr>\n",
       "      <th>Prisma_fit</th>\n",
       "      <td>473</td>\n",
       "      <td>511</td>\n",
       "    </tr>\n",
       "  </tbody>\n",
       "</table>\n",
       "</div>"
      ],
      "text/plain": [
       "SEX                         F    M\n",
       "MRI_INFO_MANUFACTURERSMN          \n",
       "Achieva dStream           202  192\n",
       "Ingenia                    74   62\n",
       "Prisma                    502  632\n",
       "Prisma_fit                473  511"
      ]
     },
     "execution_count": 28,
     "metadata": {},
     "output_type": "execute_result"
    }
   ],
   "source": [
    "pd.crosstab(data.MRI_INFO_MANUFACTURERSMN, data.SEX)"
   ]
  },
  {
   "cell_type": "code",
   "execution_count": 31,
   "metadata": {},
   "outputs": [
    {
     "data": {
      "text/html": [
       "<div>\n",
       "<style scoped>\n",
       "    .dataframe tbody tr th:only-of-type {\n",
       "        vertical-align: middle;\n",
       "    }\n",
       "\n",
       "    .dataframe tbody tr th {\n",
       "        vertical-align: top;\n",
       "    }\n",
       "\n",
       "    .dataframe thead th {\n",
       "        text-align: right;\n",
       "    }\n",
       "</style>\n",
       "<table border=\"1\" class=\"dataframe\">\n",
       "  <thead>\n",
       "    <tr style=\"text-align: right;\">\n",
       "      <th></th>\n",
       "      <th>Excl_sM</th>\n",
       "      <th>0</th>\n",
       "      <th>No</th>\n",
       "      <th>Yes</th>\n",
       "    </tr>\n",
       "    <tr>\n",
       "      <th>MRI_INFO_MANUFACTURERSMN</th>\n",
       "      <th>SEX</th>\n",
       "      <th></th>\n",
       "      <th></th>\n",
       "      <th></th>\n",
       "    </tr>\n",
       "  </thead>\n",
       "  <tbody>\n",
       "    <tr>\n",
       "      <th rowspan=\"2\" valign=\"top\">Achieva dStream</th>\n",
       "      <th>F</th>\n",
       "      <td>0</td>\n",
       "      <td>123</td>\n",
       "      <td>79</td>\n",
       "    </tr>\n",
       "    <tr>\n",
       "      <th>M</th>\n",
       "      <td>0</td>\n",
       "      <td>124</td>\n",
       "      <td>68</td>\n",
       "    </tr>\n",
       "    <tr>\n",
       "      <th rowspan=\"2\" valign=\"top\">Ingenia</th>\n",
       "      <th>F</th>\n",
       "      <td>0</td>\n",
       "      <td>40</td>\n",
       "      <td>34</td>\n",
       "    </tr>\n",
       "    <tr>\n",
       "      <th>M</th>\n",
       "      <td>0</td>\n",
       "      <td>38</td>\n",
       "      <td>24</td>\n",
       "    </tr>\n",
       "    <tr>\n",
       "      <th rowspan=\"2\" valign=\"top\">Prisma</th>\n",
       "      <th>F</th>\n",
       "      <td>4</td>\n",
       "      <td>334</td>\n",
       "      <td>164</td>\n",
       "    </tr>\n",
       "    <tr>\n",
       "      <th>M</th>\n",
       "      <td>3</td>\n",
       "      <td>495</td>\n",
       "      <td>134</td>\n",
       "    </tr>\n",
       "    <tr>\n",
       "      <th rowspan=\"2\" valign=\"top\">Prisma_fit</th>\n",
       "      <th>F</th>\n",
       "      <td>0</td>\n",
       "      <td>311</td>\n",
       "      <td>162</td>\n",
       "    </tr>\n",
       "    <tr>\n",
       "      <th>M</th>\n",
       "      <td>0</td>\n",
       "      <td>380</td>\n",
       "      <td>131</td>\n",
       "    </tr>\n",
       "  </tbody>\n",
       "</table>\n",
       "</div>"
      ],
      "text/plain": [
       "Excl_sM                       0   No  Yes\n",
       "MRI_INFO_MANUFACTURERSMN SEX             \n",
       "Achieva dStream          F    0  123   79\n",
       "                         M    0  124   68\n",
       "Ingenia                  F    0   40   34\n",
       "                         M    0   38   24\n",
       "Prisma                   F    4  334  164\n",
       "                         M    3  495  134\n",
       "Prisma_fit               F    0  311  162\n",
       "                         M    0  380  131"
      ]
     },
     "execution_count": 31,
     "metadata": {},
     "output_type": "execute_result"
    }
   ],
   "source": [
    "pd.crosstab([data.MRI_INFO_MANUFACTURERSMN, data.SEX], data.Excl_sM)"
   ]
  },
  {
   "cell_type": "code",
   "execution_count": 32,
   "metadata": {},
   "outputs": [
    {
     "data": {
      "text/html": [
       "<div>\n",
       "<style scoped>\n",
       "    .dataframe tbody tr th:only-of-type {\n",
       "        vertical-align: middle;\n",
       "    }\n",
       "\n",
       "    .dataframe tbody tr th {\n",
       "        vertical-align: top;\n",
       "    }\n",
       "\n",
       "    .dataframe thead th {\n",
       "        text-align: right;\n",
       "    }\n",
       "</style>\n",
       "<table border=\"1\" class=\"dataframe\">\n",
       "  <thead>\n",
       "    <tr style=\"text-align: right;\">\n",
       "      <th></th>\n",
       "      <th>Excl_sM</th>\n",
       "      <th>0</th>\n",
       "      <th>No</th>\n",
       "      <th>Yes</th>\n",
       "    </tr>\n",
       "    <tr>\n",
       "      <th>MRI_INFO_MANUFACTURERSMN</th>\n",
       "      <th>SEX</th>\n",
       "      <th></th>\n",
       "      <th></th>\n",
       "      <th></th>\n",
       "    </tr>\n",
       "  </thead>\n",
       "  <tbody>\n",
       "    <tr>\n",
       "      <th rowspan=\"2\" valign=\"top\">Achieva dStream</th>\n",
       "      <th>F</th>\n",
       "      <td>0.000000</td>\n",
       "      <td>0.608911</td>\n",
       "      <td>0.391089</td>\n",
       "    </tr>\n",
       "    <tr>\n",
       "      <th>M</th>\n",
       "      <td>0.000000</td>\n",
       "      <td>0.645833</td>\n",
       "      <td>0.354167</td>\n",
       "    </tr>\n",
       "    <tr>\n",
       "      <th rowspan=\"2\" valign=\"top\">Ingenia</th>\n",
       "      <th>F</th>\n",
       "      <td>0.000000</td>\n",
       "      <td>0.540541</td>\n",
       "      <td>0.459459</td>\n",
       "    </tr>\n",
       "    <tr>\n",
       "      <th>M</th>\n",
       "      <td>0.000000</td>\n",
       "      <td>0.612903</td>\n",
       "      <td>0.387097</td>\n",
       "    </tr>\n",
       "    <tr>\n",
       "      <th rowspan=\"2\" valign=\"top\">Prisma</th>\n",
       "      <th>F</th>\n",
       "      <td>0.007968</td>\n",
       "      <td>0.665339</td>\n",
       "      <td>0.326693</td>\n",
       "    </tr>\n",
       "    <tr>\n",
       "      <th>M</th>\n",
       "      <td>0.004747</td>\n",
       "      <td>0.783228</td>\n",
       "      <td>0.212025</td>\n",
       "    </tr>\n",
       "    <tr>\n",
       "      <th rowspan=\"2\" valign=\"top\">Prisma_fit</th>\n",
       "      <th>F</th>\n",
       "      <td>0.000000</td>\n",
       "      <td>0.657505</td>\n",
       "      <td>0.342495</td>\n",
       "    </tr>\n",
       "    <tr>\n",
       "      <th>M</th>\n",
       "      <td>0.000000</td>\n",
       "      <td>0.743640</td>\n",
       "      <td>0.256360</td>\n",
       "    </tr>\n",
       "  </tbody>\n",
       "</table>\n",
       "</div>"
      ],
      "text/plain": [
       "Excl_sM                              0        No       Yes\n",
       "MRI_INFO_MANUFACTURERSMN SEX                              \n",
       "Achieva dStream          F    0.000000  0.608911  0.391089\n",
       "                         M    0.000000  0.645833  0.354167\n",
       "Ingenia                  F    0.000000  0.540541  0.459459\n",
       "                         M    0.000000  0.612903  0.387097\n",
       "Prisma                   F    0.007968  0.665339  0.326693\n",
       "                         M    0.004747  0.783228  0.212025\n",
       "Prisma_fit               F    0.000000  0.657505  0.342495\n",
       "                         M    0.000000  0.743640  0.256360"
      ]
     },
     "execution_count": 32,
     "metadata": {},
     "output_type": "execute_result"
    }
   ],
   "source": [
    "pd.crosstab([data.MRI_INFO_MANUFACTURERSMN, data.SEX], data.Excl_sM, normalize='index')"
   ]
  },
  {
   "cell_type": "code",
   "execution_count": 35,
   "metadata": {},
   "outputs": [
    {
     "data": {
      "text/html": [
       "<div>\n",
       "<style scoped>\n",
       "    .dataframe tbody tr th:only-of-type {\n",
       "        vertical-align: middle;\n",
       "    }\n",
       "\n",
       "    .dataframe tbody tr th {\n",
       "        vertical-align: top;\n",
       "    }\n",
       "\n",
       "    .dataframe thead th {\n",
       "        text-align: right;\n",
       "    }\n",
       "</style>\n",
       "<table border=\"1\" class=\"dataframe\">\n",
       "  <thead>\n",
       "    <tr style=\"text-align: right;\">\n",
       "      <th></th>\n",
       "      <th>Excl</th>\n",
       "      <th>0</th>\n",
       "      <th>Good</th>\n",
       "      <th>MAGeT</th>\n",
       "      <th>MINC</th>\n",
       "      <th>Maybe</th>\n",
       "    </tr>\n",
       "    <tr>\n",
       "      <th>MRI_INFO_MANUFACTURERSMN</th>\n",
       "      <th>SEX</th>\n",
       "      <th></th>\n",
       "      <th></th>\n",
       "      <th></th>\n",
       "      <th></th>\n",
       "      <th></th>\n",
       "    </tr>\n",
       "  </thead>\n",
       "  <tbody>\n",
       "    <tr>\n",
       "      <th rowspan=\"2\" valign=\"top\">Achieva dStream</th>\n",
       "      <th>F</th>\n",
       "      <td>0</td>\n",
       "      <td>58</td>\n",
       "      <td>0</td>\n",
       "      <td>79</td>\n",
       "      <td>65</td>\n",
       "    </tr>\n",
       "    <tr>\n",
       "      <th>M</th>\n",
       "      <td>0</td>\n",
       "      <td>58</td>\n",
       "      <td>0</td>\n",
       "      <td>68</td>\n",
       "      <td>66</td>\n",
       "    </tr>\n",
       "    <tr>\n",
       "      <th rowspan=\"2\" valign=\"top\">Ingenia</th>\n",
       "      <th>F</th>\n",
       "      <td>0</td>\n",
       "      <td>14</td>\n",
       "      <td>0</td>\n",
       "      <td>34</td>\n",
       "      <td>26</td>\n",
       "    </tr>\n",
       "    <tr>\n",
       "      <th>M</th>\n",
       "      <td>0</td>\n",
       "      <td>19</td>\n",
       "      <td>0</td>\n",
       "      <td>24</td>\n",
       "      <td>19</td>\n",
       "    </tr>\n",
       "    <tr>\n",
       "      <th rowspan=\"2\" valign=\"top\">Prisma</th>\n",
       "      <th>F</th>\n",
       "      <td>4</td>\n",
       "      <td>173</td>\n",
       "      <td>12</td>\n",
       "      <td>152</td>\n",
       "      <td>161</td>\n",
       "    </tr>\n",
       "    <tr>\n",
       "      <th>M</th>\n",
       "      <td>3</td>\n",
       "      <td>258</td>\n",
       "      <td>13</td>\n",
       "      <td>121</td>\n",
       "      <td>237</td>\n",
       "    </tr>\n",
       "    <tr>\n",
       "      <th rowspan=\"2\" valign=\"top\">Prisma_fit</th>\n",
       "      <th>F</th>\n",
       "      <td>0</td>\n",
       "      <td>164</td>\n",
       "      <td>16</td>\n",
       "      <td>146</td>\n",
       "      <td>147</td>\n",
       "    </tr>\n",
       "    <tr>\n",
       "      <th>M</th>\n",
       "      <td>0</td>\n",
       "      <td>235</td>\n",
       "      <td>25</td>\n",
       "      <td>106</td>\n",
       "      <td>145</td>\n",
       "    </tr>\n",
       "  </tbody>\n",
       "</table>\n",
       "</div>"
      ],
      "text/plain": [
       "Excl                          0  Good  MAGeT  MINC  Maybe\n",
       "MRI_INFO_MANUFACTURERSMN SEX                             \n",
       "Achieva dStream          F    0    58      0    79     65\n",
       "                         M    0    58      0    68     66\n",
       "Ingenia                  F    0    14      0    34     26\n",
       "                         M    0    19      0    24     19\n",
       "Prisma                   F    4   173     12   152    161\n",
       "                         M    3   258     13   121    237\n",
       "Prisma_fit               F    0   164     16   146    147\n",
       "                         M    0   235     25   106    145"
      ]
     },
     "execution_count": 35,
     "metadata": {},
     "output_type": "execute_result"
    }
   ],
   "source": [
    "pd.crosstab([data.MRI_INFO_MANUFACTURERSMN, data.SEX], data.Excl)"
   ]
  },
  {
   "cell_type": "code",
   "execution_count": 43,
   "metadata": {},
   "outputs": [
    {
     "data": {
      "text/html": [
       "<div>\n",
       "<style scoped>\n",
       "    .dataframe tbody tr th:only-of-type {\n",
       "        vertical-align: middle;\n",
       "    }\n",
       "\n",
       "    .dataframe tbody tr th {\n",
       "        vertical-align: top;\n",
       "    }\n",
       "\n",
       "    .dataframe thead th {\n",
       "        text-align: right;\n",
       "    }\n",
       "</style>\n",
       "<table border=\"1\" class=\"dataframe\">\n",
       "  <thead>\n",
       "    <tr style=\"text-align: right;\">\n",
       "      <th></th>\n",
       "      <th>Excl</th>\n",
       "      <th>0</th>\n",
       "      <th>Good</th>\n",
       "      <th>MAGeT</th>\n",
       "      <th>MINC</th>\n",
       "      <th>Maybe</th>\n",
       "    </tr>\n",
       "    <tr>\n",
       "      <th>MRI_INFO_MANUFACTURERSMN</th>\n",
       "      <th>SEX</th>\n",
       "      <th></th>\n",
       "      <th></th>\n",
       "      <th></th>\n",
       "      <th></th>\n",
       "      <th></th>\n",
       "    </tr>\n",
       "  </thead>\n",
       "  <tbody>\n",
       "    <tr>\n",
       "      <th rowspan=\"2\" valign=\"top\">Achieva dStream</th>\n",
       "      <th>F</th>\n",
       "      <td>0.000000</td>\n",
       "      <td>0.287129</td>\n",
       "      <td>0.000000</td>\n",
       "      <td>0.391089</td>\n",
       "      <td>0.321782</td>\n",
       "    </tr>\n",
       "    <tr>\n",
       "      <th>M</th>\n",
       "      <td>0.000000</td>\n",
       "      <td>0.302083</td>\n",
       "      <td>0.000000</td>\n",
       "      <td>0.354167</td>\n",
       "      <td>0.343750</td>\n",
       "    </tr>\n",
       "    <tr>\n",
       "      <th rowspan=\"2\" valign=\"top\">Ingenia</th>\n",
       "      <th>F</th>\n",
       "      <td>0.000000</td>\n",
       "      <td>0.189189</td>\n",
       "      <td>0.000000</td>\n",
       "      <td>0.459459</td>\n",
       "      <td>0.351351</td>\n",
       "    </tr>\n",
       "    <tr>\n",
       "      <th>M</th>\n",
       "      <td>0.000000</td>\n",
       "      <td>0.306452</td>\n",
       "      <td>0.000000</td>\n",
       "      <td>0.387097</td>\n",
       "      <td>0.306452</td>\n",
       "    </tr>\n",
       "    <tr>\n",
       "      <th rowspan=\"2\" valign=\"top\">Prisma</th>\n",
       "      <th>F</th>\n",
       "      <td>0.007968</td>\n",
       "      <td>0.344622</td>\n",
       "      <td>0.023904</td>\n",
       "      <td>0.302789</td>\n",
       "      <td>0.320717</td>\n",
       "    </tr>\n",
       "    <tr>\n",
       "      <th>M</th>\n",
       "      <td>0.004747</td>\n",
       "      <td>0.408228</td>\n",
       "      <td>0.020570</td>\n",
       "      <td>0.191456</td>\n",
       "      <td>0.375000</td>\n",
       "    </tr>\n",
       "    <tr>\n",
       "      <th rowspan=\"2\" valign=\"top\">Prisma_fit</th>\n",
       "      <th>F</th>\n",
       "      <td>0.000000</td>\n",
       "      <td>0.346723</td>\n",
       "      <td>0.033827</td>\n",
       "      <td>0.308668</td>\n",
       "      <td>0.310782</td>\n",
       "    </tr>\n",
       "    <tr>\n",
       "      <th>M</th>\n",
       "      <td>0.000000</td>\n",
       "      <td>0.459883</td>\n",
       "      <td>0.048924</td>\n",
       "      <td>0.207436</td>\n",
       "      <td>0.283757</td>\n",
       "    </tr>\n",
       "  </tbody>\n",
       "</table>\n",
       "</div>"
      ],
      "text/plain": [
       "Excl                                 0      Good     MAGeT      MINC     Maybe\n",
       "MRI_INFO_MANUFACTURERSMN SEX                                                  \n",
       "Achieva dStream          F    0.000000  0.287129  0.000000  0.391089  0.321782\n",
       "                         M    0.000000  0.302083  0.000000  0.354167  0.343750\n",
       "Ingenia                  F    0.000000  0.189189  0.000000  0.459459  0.351351\n",
       "                         M    0.000000  0.306452  0.000000  0.387097  0.306452\n",
       "Prisma                   F    0.007968  0.344622  0.023904  0.302789  0.320717\n",
       "                         M    0.004747  0.408228  0.020570  0.191456  0.375000\n",
       "Prisma_fit               F    0.000000  0.346723  0.033827  0.308668  0.310782\n",
       "                         M    0.000000  0.459883  0.048924  0.207436  0.283757"
      ]
     },
     "execution_count": 43,
     "metadata": {},
     "output_type": "execute_result"
    }
   ],
   "source": [
    "pd.crosstab([data.MRI_INFO_MANUFACTURERSMN, data.SEX], data.Excl, normalize='index')"
   ]
  },
  {
   "cell_type": "code",
   "execution_count": null,
   "metadata": {},
   "outputs": [],
   "source": []
  }
 ],
 "metadata": {
  "kernelspec": {
   "display_name": "Python 3",
   "language": "python",
   "name": "python3"
  },
  "language_info": {
   "codemirror_mode": {
    "name": "ipython",
    "version": 3
   },
   "file_extension": ".py",
   "mimetype": "text/x-python",
   "name": "python",
   "nbconvert_exporter": "python",
   "pygments_lexer": "ipython3",
   "version": "3.8.5"
  }
 },
 "nbformat": 4,
 "nbformat_minor": 4
}
